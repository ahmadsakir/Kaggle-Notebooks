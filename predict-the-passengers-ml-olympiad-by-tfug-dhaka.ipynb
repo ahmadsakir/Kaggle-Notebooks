{
 "cells": [
  {
   "cell_type": "code",
   "execution_count": 1,
   "id": "396fea05",
   "metadata": {
    "execution": {
     "iopub.execute_input": "2023-02-20T14:49:58.138613Z",
     "iopub.status.busy": "2023-02-20T14:49:58.138137Z",
     "iopub.status.idle": "2023-02-20T14:49:58.143394Z",
     "shell.execute_reply": "2023-02-20T14:49:58.142510Z"
    },
    "papermill": {
     "duration": 0.021657,
     "end_time": "2023-02-20T14:49:58.145581",
     "exception": false,
     "start_time": "2023-02-20T14:49:58.123924",
     "status": "completed"
    },
    "tags": []
   },
   "outputs": [],
   "source": [
    "#!pip install tensorflow tensorflow_decision_forests\n",
    "#!pip3 install -U lazypredict"
   ]
  },
  {
   "cell_type": "code",
   "execution_count": 2,
   "id": "c5a05b34",
   "metadata": {
    "_cell_guid": "b1076dfc-b9ad-4769-8c92-a6c4dae69d19",
    "_uuid": "8f2839f25d086af736a60e9eeb907d3b93b6e0e5",
    "execution": {
     "iopub.execute_input": "2023-02-20T14:49:58.170208Z",
     "iopub.status.busy": "2023-02-20T14:49:58.169437Z",
     "iopub.status.idle": "2023-02-20T14:50:09.184744Z",
     "shell.execute_reply": "2023-02-20T14:50:09.183521Z"
    },
    "papermill": {
     "duration": 11.030506,
     "end_time": "2023-02-20T14:50:09.187324",
     "exception": false,
     "start_time": "2023-02-20T14:49:58.156818",
     "status": "completed"
    },
    "tags": []
   },
   "outputs": [],
   "source": [
    "import pandas as pd\n",
    "import numpy as np\n",
    "import matplotlib.pyplot as plt\n",
    "import seaborn as sns\n",
    "import plotly.express as px\n",
    "import tensorflow_decision_forests as tfdf"
   ]
  },
  {
   "cell_type": "code",
   "execution_count": 3,
   "id": "22268b91",
   "metadata": {
    "execution": {
     "iopub.execute_input": "2023-02-20T14:50:09.212411Z",
     "iopub.status.busy": "2023-02-20T14:50:09.211668Z",
     "iopub.status.idle": "2023-02-20T14:50:09.301190Z",
     "shell.execute_reply": "2023-02-20T14:50:09.299926Z"
    },
    "papermill": {
     "duration": 0.105407,
     "end_time": "2023-02-20T14:50:09.304360",
     "exception": false,
     "start_time": "2023-02-20T14:50:09.198953",
     "status": "completed"
    },
    "tags": []
   },
   "outputs": [],
   "source": [
    "dft = pd.read_csv(\"/kaggle/input/ml-olympiad-into-the-space/train.csv\")\n",
    "dfs = pd.read_csv(\"/kaggle/input/ml-olympiad-into-the-space/test.csv\")"
   ]
  },
  {
   "cell_type": "code",
   "execution_count": 4,
   "id": "14bb95be",
   "metadata": {
    "execution": {
     "iopub.execute_input": "2023-02-20T14:50:09.332283Z",
     "iopub.status.busy": "2023-02-20T14:50:09.331897Z",
     "iopub.status.idle": "2023-02-20T14:50:09.572893Z",
     "shell.execute_reply": "2023-02-20T14:50:09.571773Z"
    },
    "papermill": {
     "duration": 0.257202,
     "end_time": "2023-02-20T14:50:09.575492",
     "exception": false,
     "start_time": "2023-02-20T14:50:09.318290",
     "status": "completed"
    },
    "tags": []
   },
   "outputs": [
    {
     "data": {
      "text/html": [
       "<div>\n",
       "<style scoped>\n",
       "    .dataframe tbody tr th:only-of-type {\n",
       "        vertical-align: middle;\n",
       "    }\n",
       "\n",
       "    .dataframe tbody tr th {\n",
       "        vertical-align: top;\n",
       "    }\n",
       "\n",
       "    .dataframe thead th {\n",
       "        text-align: right;\n",
       "    }\n",
       "</style>\n",
       "<table border=\"1\" class=\"dataframe\">\n",
       "  <thead>\n",
       "    <tr style=\"text-align: right;\">\n",
       "      <th></th>\n",
       "      <th>PassengerId</th>\n",
       "      <th>HomePlanet</th>\n",
       "      <th>CryoSleep</th>\n",
       "      <th>Cabin</th>\n",
       "      <th>Destination</th>\n",
       "      <th>Age</th>\n",
       "      <th>VIP</th>\n",
       "      <th>RoomService</th>\n",
       "      <th>FoodCourt</th>\n",
       "      <th>ShoppingMall</th>\n",
       "      <th>Spa</th>\n",
       "      <th>VRDeck</th>\n",
       "      <th>Name</th>\n",
       "      <th>Transported</th>\n",
       "    </tr>\n",
       "  </thead>\n",
       "  <tbody>\n",
       "    <tr>\n",
       "      <th>0</th>\n",
       "      <td>0001_01</td>\n",
       "      <td>Europa</td>\n",
       "      <td>False</td>\n",
       "      <td>B/0/P</td>\n",
       "      <td>TRAPPIST-1e</td>\n",
       "      <td>39.0</td>\n",
       "      <td>False</td>\n",
       "      <td>0.0</td>\n",
       "      <td>0.0</td>\n",
       "      <td>0.0</td>\n",
       "      <td>0.0</td>\n",
       "      <td>0.0</td>\n",
       "      <td>Maham Ofracculy</td>\n",
       "      <td>False</td>\n",
       "    </tr>\n",
       "    <tr>\n",
       "      <th>1</th>\n",
       "      <td>0002_01</td>\n",
       "      <td>Earth</td>\n",
       "      <td>False</td>\n",
       "      <td>F/0/S</td>\n",
       "      <td>TRAPPIST-1e</td>\n",
       "      <td>24.0</td>\n",
       "      <td>False</td>\n",
       "      <td>109.0</td>\n",
       "      <td>9.0</td>\n",
       "      <td>25.0</td>\n",
       "      <td>549.0</td>\n",
       "      <td>44.0</td>\n",
       "      <td>Juanna Vines</td>\n",
       "      <td>True</td>\n",
       "    </tr>\n",
       "    <tr>\n",
       "      <th>2</th>\n",
       "      <td>0003_01</td>\n",
       "      <td>Europa</td>\n",
       "      <td>False</td>\n",
       "      <td>A/0/S</td>\n",
       "      <td>TRAPPIST-1e</td>\n",
       "      <td>58.0</td>\n",
       "      <td>True</td>\n",
       "      <td>43.0</td>\n",
       "      <td>3576.0</td>\n",
       "      <td>0.0</td>\n",
       "      <td>6715.0</td>\n",
       "      <td>49.0</td>\n",
       "      <td>Altark Susent</td>\n",
       "      <td>False</td>\n",
       "    </tr>\n",
       "    <tr>\n",
       "      <th>3</th>\n",
       "      <td>0003_02</td>\n",
       "      <td>Europa</td>\n",
       "      <td>False</td>\n",
       "      <td>A/0/S</td>\n",
       "      <td>TRAPPIST-1e</td>\n",
       "      <td>33.0</td>\n",
       "      <td>False</td>\n",
       "      <td>0.0</td>\n",
       "      <td>1283.0</td>\n",
       "      <td>371.0</td>\n",
       "      <td>3329.0</td>\n",
       "      <td>193.0</td>\n",
       "      <td>Solam Susent</td>\n",
       "      <td>False</td>\n",
       "    </tr>\n",
       "    <tr>\n",
       "      <th>4</th>\n",
       "      <td>0004_01</td>\n",
       "      <td>Earth</td>\n",
       "      <td>False</td>\n",
       "      <td>F/1/S</td>\n",
       "      <td>TRAPPIST-1e</td>\n",
       "      <td>16.0</td>\n",
       "      <td>False</td>\n",
       "      <td>303.0</td>\n",
       "      <td>70.0</td>\n",
       "      <td>151.0</td>\n",
       "      <td>565.0</td>\n",
       "      <td>2.0</td>\n",
       "      <td>Willy Santantines</td>\n",
       "      <td>True</td>\n",
       "    </tr>\n",
       "  </tbody>\n",
       "</table>\n",
       "</div>"
      ],
      "text/plain": [
       "  PassengerId HomePlanet CryoSleep  Cabin  Destination   Age    VIP  \\\n",
       "0     0001_01     Europa     False  B/0/P  TRAPPIST-1e  39.0  False   \n",
       "1     0002_01      Earth     False  F/0/S  TRAPPIST-1e  24.0  False   \n",
       "2     0003_01     Europa     False  A/0/S  TRAPPIST-1e  58.0   True   \n",
       "3     0003_02     Europa     False  A/0/S  TRAPPIST-1e  33.0  False   \n",
       "4     0004_01      Earth     False  F/1/S  TRAPPIST-1e  16.0  False   \n",
       "\n",
       "   RoomService  FoodCourt  ShoppingMall     Spa  VRDeck               Name  \\\n",
       "0          0.0        0.0           0.0     0.0     0.0    Maham Ofracculy   \n",
       "1        109.0        9.0          25.0   549.0    44.0       Juanna Vines   \n",
       "2         43.0     3576.0           0.0  6715.0    49.0      Altark Susent   \n",
       "3          0.0     1283.0         371.0  3329.0   193.0       Solam Susent   \n",
       "4        303.0       70.0         151.0   565.0     2.0  Willy Santantines   \n",
       "\n",
       "   Transported  \n",
       "0        False  \n",
       "1         True  \n",
       "2        False  \n",
       "3        False  \n",
       "4         True  "
      ]
     },
     "execution_count": 4,
     "metadata": {},
     "output_type": "execute_result"
    }
   ],
   "source": [
    "dft.head()"
   ]
  },
  {
   "cell_type": "code",
   "execution_count": 5,
   "id": "456241dd",
   "metadata": {
    "execution": {
     "iopub.execute_input": "2023-02-20T14:50:09.600232Z",
     "iopub.status.busy": "2023-02-20T14:50:09.599858Z",
     "iopub.status.idle": "2023-02-20T14:50:09.612950Z",
     "shell.execute_reply": "2023-02-20T14:50:09.611763Z"
    },
    "papermill": {
     "duration": 0.028414,
     "end_time": "2023-02-20T14:50:09.615367",
     "exception": false,
     "start_time": "2023-02-20T14:50:09.586953",
     "status": "completed"
    },
    "tags": []
   },
   "outputs": [],
   "source": [
    "dft.drop(['PassengerId','RoomService','FoodCourt', 'ShoppingMall', 'Spa' ,'VRDeck', 'Name'],axis=1,inplace=True)"
   ]
  },
  {
   "cell_type": "code",
   "execution_count": 6,
   "id": "a4f59642",
   "metadata": {
    "execution": {
     "iopub.execute_input": "2023-02-20T14:50:09.641001Z",
     "iopub.status.busy": "2023-02-20T14:50:09.640578Z",
     "iopub.status.idle": "2023-02-20T14:50:09.649971Z",
     "shell.execute_reply": "2023-02-20T14:50:09.648772Z"
    },
    "papermill": {
     "duration": 0.025073,
     "end_time": "2023-02-20T14:50:09.652417",
     "exception": false,
     "start_time": "2023-02-20T14:50:09.627344",
     "status": "completed"
    },
    "tags": []
   },
   "outputs": [],
   "source": [
    "dfs.drop(['RoomService','FoodCourt', 'ShoppingMall', 'Spa' ,'VRDeck', 'Name'],axis=1,inplace=True)"
   ]
  },
  {
   "cell_type": "code",
   "execution_count": 7,
   "id": "f50e12b9",
   "metadata": {
    "execution": {
     "iopub.execute_input": "2023-02-20T14:50:09.678599Z",
     "iopub.status.busy": "2023-02-20T14:50:09.677301Z",
     "iopub.status.idle": "2023-02-20T14:50:09.698530Z",
     "shell.execute_reply": "2023-02-20T14:50:09.697276Z"
    },
    "papermill": {
     "duration": 0.037296,
     "end_time": "2023-02-20T14:50:09.701255",
     "exception": false,
     "start_time": "2023-02-20T14:50:09.663959",
     "status": "completed"
    },
    "tags": []
   },
   "outputs": [],
   "source": [
    "dft['Deck'] = dft['Cabin'].apply(lambda x: str(x)[:1])\n",
    "dft['Num'] = dft['Cabin'].apply(lambda x: str(x)[2:3])\n",
    "dft['Side'] = dft['Cabin'].apply(lambda x: str(x)[-1:])"
   ]
  },
  {
   "cell_type": "code",
   "execution_count": 8,
   "id": "d85d1728",
   "metadata": {
    "execution": {
     "iopub.execute_input": "2023-02-20T14:50:09.726164Z",
     "iopub.status.busy": "2023-02-20T14:50:09.725757Z",
     "iopub.status.idle": "2023-02-20T14:50:09.740624Z",
     "shell.execute_reply": "2023-02-20T14:50:09.739420Z"
    },
    "papermill": {
     "duration": 0.030647,
     "end_time": "2023-02-20T14:50:09.743343",
     "exception": false,
     "start_time": "2023-02-20T14:50:09.712696",
     "status": "completed"
    },
    "tags": []
   },
   "outputs": [],
   "source": [
    "dfs['Deck'] = dfs['Cabin'].apply(lambda x: str(x)[:1])\n",
    "dfs['Num'] = dfs['Cabin'].apply(lambda x: str(x)[2:3])\n",
    "dfs['Side'] = dfs['Cabin'].apply(lambda x: str(x)[-1:])"
   ]
  },
  {
   "cell_type": "code",
   "execution_count": 9,
   "id": "0db848cb",
   "metadata": {
    "execution": {
     "iopub.execute_input": "2023-02-20T14:50:09.768645Z",
     "iopub.status.busy": "2023-02-20T14:50:09.768195Z",
     "iopub.status.idle": "2023-02-20T14:50:09.780708Z",
     "shell.execute_reply": "2023-02-20T14:50:09.779523Z"
    },
    "papermill": {
     "duration": 0.028335,
     "end_time": "2023-02-20T14:50:09.783261",
     "exception": false,
     "start_time": "2023-02-20T14:50:09.754926",
     "status": "completed"
    },
    "tags": []
   },
   "outputs": [],
   "source": [
    "dft.drop(['Cabin'],axis=1,inplace=True)\n",
    "dfs.drop(['Cabin'],axis=1,inplace=True)"
   ]
  },
  {
   "cell_type": "code",
   "execution_count": 10,
   "id": "4b9a522e",
   "metadata": {
    "execution": {
     "iopub.execute_input": "2023-02-20T14:50:09.808940Z",
     "iopub.status.busy": "2023-02-20T14:50:09.808491Z",
     "iopub.status.idle": "2023-02-20T14:50:09.825357Z",
     "shell.execute_reply": "2023-02-20T14:50:09.824160Z"
    },
    "papermill": {
     "duration": 0.032205,
     "end_time": "2023-02-20T14:50:09.827682",
     "exception": false,
     "start_time": "2023-02-20T14:50:09.795477",
     "status": "completed"
    },
    "tags": []
   },
   "outputs": [
    {
     "data": {
      "text/html": [
       "<div>\n",
       "<style scoped>\n",
       "    .dataframe tbody tr th:only-of-type {\n",
       "        vertical-align: middle;\n",
       "    }\n",
       "\n",
       "    .dataframe tbody tr th {\n",
       "        vertical-align: top;\n",
       "    }\n",
       "\n",
       "    .dataframe thead th {\n",
       "        text-align: right;\n",
       "    }\n",
       "</style>\n",
       "<table border=\"1\" class=\"dataframe\">\n",
       "  <thead>\n",
       "    <tr style=\"text-align: right;\">\n",
       "      <th></th>\n",
       "      <th>HomePlanet</th>\n",
       "      <th>CryoSleep</th>\n",
       "      <th>Destination</th>\n",
       "      <th>Age</th>\n",
       "      <th>VIP</th>\n",
       "      <th>Transported</th>\n",
       "      <th>Deck</th>\n",
       "      <th>Num</th>\n",
       "      <th>Side</th>\n",
       "    </tr>\n",
       "  </thead>\n",
       "  <tbody>\n",
       "    <tr>\n",
       "      <th>0</th>\n",
       "      <td>Europa</td>\n",
       "      <td>False</td>\n",
       "      <td>TRAPPIST-1e</td>\n",
       "      <td>39.0</td>\n",
       "      <td>False</td>\n",
       "      <td>False</td>\n",
       "      <td>B</td>\n",
       "      <td>0</td>\n",
       "      <td>P</td>\n",
       "    </tr>\n",
       "    <tr>\n",
       "      <th>1</th>\n",
       "      <td>Earth</td>\n",
       "      <td>False</td>\n",
       "      <td>TRAPPIST-1e</td>\n",
       "      <td>24.0</td>\n",
       "      <td>False</td>\n",
       "      <td>True</td>\n",
       "      <td>F</td>\n",
       "      <td>0</td>\n",
       "      <td>S</td>\n",
       "    </tr>\n",
       "    <tr>\n",
       "      <th>2</th>\n",
       "      <td>Europa</td>\n",
       "      <td>False</td>\n",
       "      <td>TRAPPIST-1e</td>\n",
       "      <td>58.0</td>\n",
       "      <td>True</td>\n",
       "      <td>False</td>\n",
       "      <td>A</td>\n",
       "      <td>0</td>\n",
       "      <td>S</td>\n",
       "    </tr>\n",
       "    <tr>\n",
       "      <th>3</th>\n",
       "      <td>Europa</td>\n",
       "      <td>False</td>\n",
       "      <td>TRAPPIST-1e</td>\n",
       "      <td>33.0</td>\n",
       "      <td>False</td>\n",
       "      <td>False</td>\n",
       "      <td>A</td>\n",
       "      <td>0</td>\n",
       "      <td>S</td>\n",
       "    </tr>\n",
       "    <tr>\n",
       "      <th>4</th>\n",
       "      <td>Earth</td>\n",
       "      <td>False</td>\n",
       "      <td>TRAPPIST-1e</td>\n",
       "      <td>16.0</td>\n",
       "      <td>False</td>\n",
       "      <td>True</td>\n",
       "      <td>F</td>\n",
       "      <td>1</td>\n",
       "      <td>S</td>\n",
       "    </tr>\n",
       "  </tbody>\n",
       "</table>\n",
       "</div>"
      ],
      "text/plain": [
       "  HomePlanet CryoSleep  Destination   Age    VIP  Transported Deck Num Side\n",
       "0     Europa     False  TRAPPIST-1e  39.0  False        False    B   0    P\n",
       "1      Earth     False  TRAPPIST-1e  24.0  False         True    F   0    S\n",
       "2     Europa     False  TRAPPIST-1e  58.0   True        False    A   0    S\n",
       "3     Europa     False  TRAPPIST-1e  33.0  False        False    A   0    S\n",
       "4      Earth     False  TRAPPIST-1e  16.0  False         True    F   1    S"
      ]
     },
     "execution_count": 10,
     "metadata": {},
     "output_type": "execute_result"
    }
   ],
   "source": [
    "dft.head()"
   ]
  },
  {
   "cell_type": "code",
   "execution_count": 11,
   "id": "fc672a4d",
   "metadata": {
    "execution": {
     "iopub.execute_input": "2023-02-20T14:50:09.852918Z",
     "iopub.status.busy": "2023-02-20T14:50:09.852490Z",
     "iopub.status.idle": "2023-02-20T14:50:10.008016Z",
     "shell.execute_reply": "2023-02-20T14:50:10.006944Z"
    },
    "papermill": {
     "duration": 0.171096,
     "end_time": "2023-02-20T14:50:10.010666",
     "exception": false,
     "start_time": "2023-02-20T14:50:09.839570",
     "status": "completed"
    },
    "tags": []
   },
   "outputs": [],
   "source": [
    "from sklearn.preprocessing import LabelEncoder, OrdinalEncoder"
   ]
  },
  {
   "cell_type": "code",
   "execution_count": 12,
   "id": "6775482d",
   "metadata": {
    "execution": {
     "iopub.execute_input": "2023-02-20T14:50:10.039690Z",
     "iopub.status.busy": "2023-02-20T14:50:10.038618Z",
     "iopub.status.idle": "2023-02-20T14:50:10.046417Z",
     "shell.execute_reply": "2023-02-20T14:50:10.045361Z"
    },
    "papermill": {
     "duration": 0.025721,
     "end_time": "2023-02-20T14:50:10.048785",
     "exception": false,
     "start_time": "2023-02-20T14:50:10.023064",
     "status": "completed"
    },
    "tags": []
   },
   "outputs": [
    {
     "data": {
      "text/plain": [
       "Index(['HomePlanet', 'CryoSleep', 'Destination', 'Age', 'VIP', 'Transported',\n",
       "       'Deck', 'Num', 'Side'],\n",
       "      dtype='object')"
      ]
     },
     "execution_count": 12,
     "metadata": {},
     "output_type": "execute_result"
    }
   ],
   "source": [
    "dft.columns"
   ]
  },
  {
   "cell_type": "code",
   "execution_count": 13,
   "id": "66df161e",
   "metadata": {
    "execution": {
     "iopub.execute_input": "2023-02-20T14:50:10.075149Z",
     "iopub.status.busy": "2023-02-20T14:50:10.074736Z",
     "iopub.status.idle": "2023-02-20T14:50:10.103068Z",
     "shell.execute_reply": "2023-02-20T14:50:10.101885Z"
    },
    "papermill": {
     "duration": 0.044614,
     "end_time": "2023-02-20T14:50:10.105851",
     "exception": false,
     "start_time": "2023-02-20T14:50:10.061237",
     "status": "completed"
    },
    "tags": []
   },
   "outputs": [],
   "source": [
    "lbl = LabelEncoder()\n",
    "\n",
    "dft['homeplanet'] = lbl.fit_transform(dft['HomePlanet'])\n",
    "dft['cryosleep'] = lbl.fit_transform(dft['CryoSleep'])\n",
    "dft['destination'] = lbl.fit_transform(dft['Destination'])\n",
    "dft['vip'] = lbl.fit_transform(dft['VIP'])\n",
    "dft['transported'] = lbl.fit_transform(dft['Transported'])\n",
    "dft['deck'] = lbl.fit_transform(dft['Deck'])\n",
    "dft['num'] = lbl.fit_transform(dft['Num'])\n",
    "dft['side'] = lbl.fit_transform(dft['Side'])"
   ]
  },
  {
   "cell_type": "code",
   "execution_count": 14,
   "id": "1c60b5fe",
   "metadata": {
    "execution": {
     "iopub.execute_input": "2023-02-20T14:50:10.131141Z",
     "iopub.status.busy": "2023-02-20T14:50:10.130741Z",
     "iopub.status.idle": "2023-02-20T14:50:10.138355Z",
     "shell.execute_reply": "2023-02-20T14:50:10.137203Z"
    },
    "papermill": {
     "duration": 0.023317,
     "end_time": "2023-02-20T14:50:10.140916",
     "exception": false,
     "start_time": "2023-02-20T14:50:10.117599",
     "status": "completed"
    },
    "tags": []
   },
   "outputs": [],
   "source": [
    "dft.drop(['HomePlanet', 'CryoSleep', 'Destination','VIP', 'Transported','Deck', 'Num', 'Side'],axis=1, inplace=True)"
   ]
  },
  {
   "cell_type": "code",
   "execution_count": 15,
   "id": "ff936da3",
   "metadata": {
    "execution": {
     "iopub.execute_input": "2023-02-20T14:50:10.166420Z",
     "iopub.status.busy": "2023-02-20T14:50:10.166022Z",
     "iopub.status.idle": "2023-02-20T14:50:10.172691Z",
     "shell.execute_reply": "2023-02-20T14:50:10.171631Z"
    },
    "papermill": {
     "duration": 0.022303,
     "end_time": "2023-02-20T14:50:10.175104",
     "exception": false,
     "start_time": "2023-02-20T14:50:10.152801",
     "status": "completed"
    },
    "tags": []
   },
   "outputs": [],
   "source": [
    "dft['Age'].fillna(dft['Age'].mean(),inplace=True)"
   ]
  },
  {
   "cell_type": "code",
   "execution_count": 16,
   "id": "6b30b8f2",
   "metadata": {
    "execution": {
     "iopub.execute_input": "2023-02-20T14:50:10.200345Z",
     "iopub.status.busy": "2023-02-20T14:50:10.199963Z",
     "iopub.status.idle": "2023-02-20T14:50:10.205618Z",
     "shell.execute_reply": "2023-02-20T14:50:10.204649Z"
    },
    "papermill": {
     "duration": 0.021124,
     "end_time": "2023-02-20T14:50:10.207986",
     "exception": false,
     "start_time": "2023-02-20T14:50:10.186862",
     "status": "completed"
    },
    "tags": []
   },
   "outputs": [],
   "source": [
    "dft['Age'] = dft.Age.astype('int')"
   ]
  },
  {
   "cell_type": "code",
   "execution_count": 17,
   "id": "c2628805",
   "metadata": {
    "execution": {
     "iopub.execute_input": "2023-02-20T14:50:10.233791Z",
     "iopub.status.busy": "2023-02-20T14:50:10.233368Z",
     "iopub.status.idle": "2023-02-20T14:50:10.246565Z",
     "shell.execute_reply": "2023-02-20T14:50:10.245349Z"
    },
    "papermill": {
     "duration": 0.02921,
     "end_time": "2023-02-20T14:50:10.248931",
     "exception": false,
     "start_time": "2023-02-20T14:50:10.219721",
     "status": "completed"
    },
    "tags": []
   },
   "outputs": [
    {
     "data": {
      "text/html": [
       "<div>\n",
       "<style scoped>\n",
       "    .dataframe tbody tr th:only-of-type {\n",
       "        vertical-align: middle;\n",
       "    }\n",
       "\n",
       "    .dataframe tbody tr th {\n",
       "        vertical-align: top;\n",
       "    }\n",
       "\n",
       "    .dataframe thead th {\n",
       "        text-align: right;\n",
       "    }\n",
       "</style>\n",
       "<table border=\"1\" class=\"dataframe\">\n",
       "  <thead>\n",
       "    <tr style=\"text-align: right;\">\n",
       "      <th></th>\n",
       "      <th>Age</th>\n",
       "      <th>homeplanet</th>\n",
       "      <th>cryosleep</th>\n",
       "      <th>destination</th>\n",
       "      <th>vip</th>\n",
       "      <th>transported</th>\n",
       "      <th>deck</th>\n",
       "      <th>num</th>\n",
       "      <th>side</th>\n",
       "    </tr>\n",
       "  </thead>\n",
       "  <tbody>\n",
       "    <tr>\n",
       "      <th>0</th>\n",
       "      <td>39</td>\n",
       "      <td>1</td>\n",
       "      <td>0</td>\n",
       "      <td>2</td>\n",
       "      <td>0</td>\n",
       "      <td>0</td>\n",
       "      <td>1</td>\n",
       "      <td>0</td>\n",
       "      <td>0</td>\n",
       "    </tr>\n",
       "    <tr>\n",
       "      <th>1</th>\n",
       "      <td>24</td>\n",
       "      <td>0</td>\n",
       "      <td>0</td>\n",
       "      <td>2</td>\n",
       "      <td>0</td>\n",
       "      <td>1</td>\n",
       "      <td>5</td>\n",
       "      <td>0</td>\n",
       "      <td>1</td>\n",
       "    </tr>\n",
       "    <tr>\n",
       "      <th>2</th>\n",
       "      <td>58</td>\n",
       "      <td>1</td>\n",
       "      <td>0</td>\n",
       "      <td>2</td>\n",
       "      <td>1</td>\n",
       "      <td>0</td>\n",
       "      <td>0</td>\n",
       "      <td>0</td>\n",
       "      <td>1</td>\n",
       "    </tr>\n",
       "    <tr>\n",
       "      <th>3</th>\n",
       "      <td>33</td>\n",
       "      <td>1</td>\n",
       "      <td>0</td>\n",
       "      <td>2</td>\n",
       "      <td>0</td>\n",
       "      <td>0</td>\n",
       "      <td>0</td>\n",
       "      <td>0</td>\n",
       "      <td>1</td>\n",
       "    </tr>\n",
       "    <tr>\n",
       "      <th>4</th>\n",
       "      <td>16</td>\n",
       "      <td>0</td>\n",
       "      <td>0</td>\n",
       "      <td>2</td>\n",
       "      <td>0</td>\n",
       "      <td>1</td>\n",
       "      <td>5</td>\n",
       "      <td>1</td>\n",
       "      <td>1</td>\n",
       "    </tr>\n",
       "  </tbody>\n",
       "</table>\n",
       "</div>"
      ],
      "text/plain": [
       "   Age  homeplanet  cryosleep  destination  vip  transported  deck  num  side\n",
       "0   39           1          0            2    0            0     1    0     0\n",
       "1   24           0          0            2    0            1     5    0     1\n",
       "2   58           1          0            2    1            0     0    0     1\n",
       "3   33           1          0            2    0            0     0    0     1\n",
       "4   16           0          0            2    0            1     5    1     1"
      ]
     },
     "execution_count": 17,
     "metadata": {},
     "output_type": "execute_result"
    }
   ],
   "source": [
    "dft.head()"
   ]
  },
  {
   "cell_type": "code",
   "execution_count": 18,
   "id": "efa6f4d7",
   "metadata": {
    "execution": {
     "iopub.execute_input": "2023-02-20T14:50:10.274810Z",
     "iopub.status.busy": "2023-02-20T14:50:10.274076Z",
     "iopub.status.idle": "2023-02-20T14:50:10.290710Z",
     "shell.execute_reply": "2023-02-20T14:50:10.289444Z"
    },
    "papermill": {
     "duration": 0.032066,
     "end_time": "2023-02-20T14:50:10.293004",
     "exception": false,
     "start_time": "2023-02-20T14:50:10.260938",
     "status": "completed"
    },
    "tags": []
   },
   "outputs": [
    {
     "data": {
      "text/html": [
       "<div>\n",
       "<style scoped>\n",
       "    .dataframe tbody tr th:only-of-type {\n",
       "        vertical-align: middle;\n",
       "    }\n",
       "\n",
       "    .dataframe tbody tr th {\n",
       "        vertical-align: top;\n",
       "    }\n",
       "\n",
       "    .dataframe thead th {\n",
       "        text-align: right;\n",
       "    }\n",
       "</style>\n",
       "<table border=\"1\" class=\"dataframe\">\n",
       "  <thead>\n",
       "    <tr style=\"text-align: right;\">\n",
       "      <th></th>\n",
       "      <th>PassengerId</th>\n",
       "      <th>HomePlanet</th>\n",
       "      <th>CryoSleep</th>\n",
       "      <th>Destination</th>\n",
       "      <th>Age</th>\n",
       "      <th>VIP</th>\n",
       "      <th>Deck</th>\n",
       "      <th>Num</th>\n",
       "      <th>Side</th>\n",
       "    </tr>\n",
       "  </thead>\n",
       "  <tbody>\n",
       "    <tr>\n",
       "      <th>0</th>\n",
       "      <td>0013_01</td>\n",
       "      <td>Earth</td>\n",
       "      <td>True</td>\n",
       "      <td>TRAPPIST-1e</td>\n",
       "      <td>27.0</td>\n",
       "      <td>False</td>\n",
       "      <td>G</td>\n",
       "      <td>3</td>\n",
       "      <td>S</td>\n",
       "    </tr>\n",
       "    <tr>\n",
       "      <th>1</th>\n",
       "      <td>0018_01</td>\n",
       "      <td>Earth</td>\n",
       "      <td>False</td>\n",
       "      <td>TRAPPIST-1e</td>\n",
       "      <td>19.0</td>\n",
       "      <td>False</td>\n",
       "      <td>F</td>\n",
       "      <td>4</td>\n",
       "      <td>S</td>\n",
       "    </tr>\n",
       "    <tr>\n",
       "      <th>2</th>\n",
       "      <td>0019_01</td>\n",
       "      <td>Europa</td>\n",
       "      <td>True</td>\n",
       "      <td>55 Cancri e</td>\n",
       "      <td>31.0</td>\n",
       "      <td>False</td>\n",
       "      <td>C</td>\n",
       "      <td>0</td>\n",
       "      <td>S</td>\n",
       "    </tr>\n",
       "    <tr>\n",
       "      <th>3</th>\n",
       "      <td>0021_01</td>\n",
       "      <td>Europa</td>\n",
       "      <td>False</td>\n",
       "      <td>TRAPPIST-1e</td>\n",
       "      <td>38.0</td>\n",
       "      <td>False</td>\n",
       "      <td>C</td>\n",
       "      <td>1</td>\n",
       "      <td>S</td>\n",
       "    </tr>\n",
       "    <tr>\n",
       "      <th>4</th>\n",
       "      <td>0023_01</td>\n",
       "      <td>Earth</td>\n",
       "      <td>False</td>\n",
       "      <td>TRAPPIST-1e</td>\n",
       "      <td>20.0</td>\n",
       "      <td>False</td>\n",
       "      <td>F</td>\n",
       "      <td>5</td>\n",
       "      <td>S</td>\n",
       "    </tr>\n",
       "  </tbody>\n",
       "</table>\n",
       "</div>"
      ],
      "text/plain": [
       "  PassengerId HomePlanet CryoSleep  Destination   Age    VIP Deck Num Side\n",
       "0     0013_01      Earth      True  TRAPPIST-1e  27.0  False    G   3    S\n",
       "1     0018_01      Earth     False  TRAPPIST-1e  19.0  False    F   4    S\n",
       "2     0019_01     Europa      True  55 Cancri e  31.0  False    C   0    S\n",
       "3     0021_01     Europa     False  TRAPPIST-1e  38.0  False    C   1    S\n",
       "4     0023_01      Earth     False  TRAPPIST-1e  20.0  False    F   5    S"
      ]
     },
     "execution_count": 18,
     "metadata": {},
     "output_type": "execute_result"
    }
   ],
   "source": [
    "dfs.head()"
   ]
  },
  {
   "cell_type": "code",
   "execution_count": 19,
   "id": "094865ec",
   "metadata": {
    "execution": {
     "iopub.execute_input": "2023-02-20T14:50:10.320094Z",
     "iopub.status.busy": "2023-02-20T14:50:10.319572Z",
     "iopub.status.idle": "2023-02-20T14:50:10.344995Z",
     "shell.execute_reply": "2023-02-20T14:50:10.344009Z"
    },
    "papermill": {
     "duration": 0.042146,
     "end_time": "2023-02-20T14:50:10.347502",
     "exception": false,
     "start_time": "2023-02-20T14:50:10.305356",
     "status": "completed"
    },
    "tags": []
   },
   "outputs": [],
   "source": [
    "dfs['homeplanet'] = lbl.fit_transform(dfs['HomePlanet'])\n",
    "dfs['cryosleep'] = lbl.fit_transform(dfs['CryoSleep'])\n",
    "dfs['destination'] = lbl.fit_transform(dfs['Destination'])\n",
    "dfs['vip'] = lbl.fit_transform(dfs['VIP'])\n",
    "dfs['deck'] = lbl.fit_transform(dfs['Deck'])\n",
    "dfs['num'] = lbl.fit_transform(dfs['Num'])\n",
    "dfs['side'] = lbl.fit_transform(dfs['Side'])"
   ]
  },
  {
   "cell_type": "code",
   "execution_count": 20,
   "id": "f712e198",
   "metadata": {
    "execution": {
     "iopub.execute_input": "2023-02-20T14:50:10.388038Z",
     "iopub.status.busy": "2023-02-20T14:50:10.387042Z",
     "iopub.status.idle": "2023-02-20T14:50:10.395091Z",
     "shell.execute_reply": "2023-02-20T14:50:10.394204Z"
    },
    "papermill": {
     "duration": 0.030514,
     "end_time": "2023-02-20T14:50:10.397504",
     "exception": false,
     "start_time": "2023-02-20T14:50:10.366990",
     "status": "completed"
    },
    "tags": []
   },
   "outputs": [],
   "source": [
    "dfs.drop(['HomePlanet', 'CryoSleep', 'Destination','VIP','Deck', 'Num', 'Side'],axis=1, inplace=True)"
   ]
  },
  {
   "cell_type": "code",
   "execution_count": 21,
   "id": "68c19f60",
   "metadata": {
    "execution": {
     "iopub.execute_input": "2023-02-20T14:50:10.431219Z",
     "iopub.status.busy": "2023-02-20T14:50:10.430469Z",
     "iopub.status.idle": "2023-02-20T14:50:10.436193Z",
     "shell.execute_reply": "2023-02-20T14:50:10.435327Z"
    },
    "papermill": {
     "duration": 0.021951,
     "end_time": "2023-02-20T14:50:10.438537",
     "exception": false,
     "start_time": "2023-02-20T14:50:10.416586",
     "status": "completed"
    },
    "tags": []
   },
   "outputs": [],
   "source": [
    "dfs['Age'].fillna(dfs['Age'].mean(),inplace=True)"
   ]
  },
  {
   "cell_type": "code",
   "execution_count": 22,
   "id": "0a0e7863",
   "metadata": {
    "execution": {
     "iopub.execute_input": "2023-02-20T14:50:10.465422Z",
     "iopub.status.busy": "2023-02-20T14:50:10.464662Z",
     "iopub.status.idle": "2023-02-20T14:50:10.470567Z",
     "shell.execute_reply": "2023-02-20T14:50:10.468968Z"
    },
    "papermill": {
     "duration": 0.022473,
     "end_time": "2023-02-20T14:50:10.473387",
     "exception": false,
     "start_time": "2023-02-20T14:50:10.450914",
     "status": "completed"
    },
    "tags": []
   },
   "outputs": [],
   "source": [
    "dfs['Age'] = dfs.Age.astype('int')"
   ]
  },
  {
   "cell_type": "code",
   "execution_count": 23,
   "id": "b5a9df38",
   "metadata": {
    "execution": {
     "iopub.execute_input": "2023-02-20T14:50:10.500262Z",
     "iopub.status.busy": "2023-02-20T14:50:10.499842Z",
     "iopub.status.idle": "2023-02-20T14:50:10.512014Z",
     "shell.execute_reply": "2023-02-20T14:50:10.511213Z"
    },
    "papermill": {
     "duration": 0.028167,
     "end_time": "2023-02-20T14:50:10.514137",
     "exception": false,
     "start_time": "2023-02-20T14:50:10.485970",
     "status": "completed"
    },
    "tags": []
   },
   "outputs": [
    {
     "data": {
      "text/html": [
       "<div>\n",
       "<style scoped>\n",
       "    .dataframe tbody tr th:only-of-type {\n",
       "        vertical-align: middle;\n",
       "    }\n",
       "\n",
       "    .dataframe tbody tr th {\n",
       "        vertical-align: top;\n",
       "    }\n",
       "\n",
       "    .dataframe thead th {\n",
       "        text-align: right;\n",
       "    }\n",
       "</style>\n",
       "<table border=\"1\" class=\"dataframe\">\n",
       "  <thead>\n",
       "    <tr style=\"text-align: right;\">\n",
       "      <th></th>\n",
       "      <th>PassengerId</th>\n",
       "      <th>Age</th>\n",
       "      <th>homeplanet</th>\n",
       "      <th>cryosleep</th>\n",
       "      <th>destination</th>\n",
       "      <th>vip</th>\n",
       "      <th>deck</th>\n",
       "      <th>num</th>\n",
       "      <th>side</th>\n",
       "    </tr>\n",
       "  </thead>\n",
       "  <tbody>\n",
       "    <tr>\n",
       "      <th>0</th>\n",
       "      <td>0013_01</td>\n",
       "      <td>27</td>\n",
       "      <td>0</td>\n",
       "      <td>1</td>\n",
       "      <td>2</td>\n",
       "      <td>0</td>\n",
       "      <td>6</td>\n",
       "      <td>3</td>\n",
       "      <td>1</td>\n",
       "    </tr>\n",
       "    <tr>\n",
       "      <th>1</th>\n",
       "      <td>0018_01</td>\n",
       "      <td>19</td>\n",
       "      <td>0</td>\n",
       "      <td>0</td>\n",
       "      <td>2</td>\n",
       "      <td>0</td>\n",
       "      <td>5</td>\n",
       "      <td>4</td>\n",
       "      <td>1</td>\n",
       "    </tr>\n",
       "    <tr>\n",
       "      <th>2</th>\n",
       "      <td>0019_01</td>\n",
       "      <td>31</td>\n",
       "      <td>1</td>\n",
       "      <td>1</td>\n",
       "      <td>0</td>\n",
       "      <td>0</td>\n",
       "      <td>2</td>\n",
       "      <td>0</td>\n",
       "      <td>1</td>\n",
       "    </tr>\n",
       "    <tr>\n",
       "      <th>3</th>\n",
       "      <td>0021_01</td>\n",
       "      <td>38</td>\n",
       "      <td>1</td>\n",
       "      <td>0</td>\n",
       "      <td>2</td>\n",
       "      <td>0</td>\n",
       "      <td>2</td>\n",
       "      <td>1</td>\n",
       "      <td>1</td>\n",
       "    </tr>\n",
       "    <tr>\n",
       "      <th>4</th>\n",
       "      <td>0023_01</td>\n",
       "      <td>20</td>\n",
       "      <td>0</td>\n",
       "      <td>0</td>\n",
       "      <td>2</td>\n",
       "      <td>0</td>\n",
       "      <td>5</td>\n",
       "      <td>5</td>\n",
       "      <td>1</td>\n",
       "    </tr>\n",
       "  </tbody>\n",
       "</table>\n",
       "</div>"
      ],
      "text/plain": [
       "  PassengerId  Age  homeplanet  cryosleep  destination  vip  deck  num  side\n",
       "0     0013_01   27           0          1            2    0     6    3     1\n",
       "1     0018_01   19           0          0            2    0     5    4     1\n",
       "2     0019_01   31           1          1            0    0     2    0     1\n",
       "3     0021_01   38           1          0            2    0     2    1     1\n",
       "4     0023_01   20           0          0            2    0     5    5     1"
      ]
     },
     "execution_count": 23,
     "metadata": {},
     "output_type": "execute_result"
    }
   ],
   "source": [
    "dfs.head()"
   ]
  },
  {
   "cell_type": "code",
   "execution_count": 24,
   "id": "e484c6d2",
   "metadata": {
    "execution": {
     "iopub.execute_input": "2023-02-20T14:50:10.541684Z",
     "iopub.status.busy": "2023-02-20T14:50:10.540341Z",
     "iopub.status.idle": "2023-02-20T14:50:10.547309Z",
     "shell.execute_reply": "2023-02-20T14:50:10.546494Z"
    },
    "papermill": {
     "duration": 0.022915,
     "end_time": "2023-02-20T14:50:10.549477",
     "exception": false,
     "start_time": "2023-02-20T14:50:10.526562",
     "status": "completed"
    },
    "tags": []
   },
   "outputs": [
    {
     "data": {
      "text/plain": [
       "(4277, 9)"
      ]
     },
     "execution_count": 24,
     "metadata": {},
     "output_type": "execute_result"
    }
   ],
   "source": [
    "dfs.shape"
   ]
  },
  {
   "cell_type": "code",
   "execution_count": 25,
   "id": "14be09c5",
   "metadata": {
    "execution": {
     "iopub.execute_input": "2023-02-20T14:50:10.576604Z",
     "iopub.status.busy": "2023-02-20T14:50:10.576168Z",
     "iopub.status.idle": "2023-02-20T14:50:10.582200Z",
     "shell.execute_reply": "2023-02-20T14:50:10.581422Z"
    },
    "papermill": {
     "duration": 0.022471,
     "end_time": "2023-02-20T14:50:10.584365",
     "exception": false,
     "start_time": "2023-02-20T14:50:10.561894",
     "status": "completed"
    },
    "tags": []
   },
   "outputs": [
    {
     "data": {
      "text/plain": [
       "(8693, 9)"
      ]
     },
     "execution_count": 25,
     "metadata": {},
     "output_type": "execute_result"
    }
   ],
   "source": [
    "dft.shape"
   ]
  },
  {
   "cell_type": "code",
   "execution_count": 26,
   "id": "6d9caf71",
   "metadata": {
    "execution": {
     "iopub.execute_input": "2023-02-20T14:50:10.611424Z",
     "iopub.status.busy": "2023-02-20T14:50:10.610715Z",
     "iopub.status.idle": "2023-02-20T14:50:10.625711Z",
     "shell.execute_reply": "2023-02-20T14:50:10.624514Z"
    },
    "papermill": {
     "duration": 0.032034,
     "end_time": "2023-02-20T14:50:10.628845",
     "exception": false,
     "start_time": "2023-02-20T14:50:10.596811",
     "status": "completed"
    },
    "tags": []
   },
   "outputs": [],
   "source": [
    "df_train = dft.sample(frac=0.8, random_state=0)\n",
    "df_valid = dft.drop(df_train.index)\n",
    "\n",
    "x_train = df_train.drop('transported', axis=1)\n",
    "y_train = df_train['transported']\n",
    "x_valid = df_valid.drop('transported', axis=1)\n",
    "y_valid = df_valid['transported']"
   ]
  },
  {
   "cell_type": "code",
   "execution_count": 27,
   "id": "2e053836",
   "metadata": {
    "execution": {
     "iopub.execute_input": "2023-02-20T14:50:10.656366Z",
     "iopub.status.busy": "2023-02-20T14:50:10.655697Z",
     "iopub.status.idle": "2023-02-20T14:50:10.667654Z",
     "shell.execute_reply": "2023-02-20T14:50:10.666830Z"
    },
    "papermill": {
     "duration": 0.027971,
     "end_time": "2023-02-20T14:50:10.669961",
     "exception": false,
     "start_time": "2023-02-20T14:50:10.641990",
     "status": "completed"
    },
    "tags": []
   },
   "outputs": [
    {
     "data": {
      "text/html": [
       "<div>\n",
       "<style scoped>\n",
       "    .dataframe tbody tr th:only-of-type {\n",
       "        vertical-align: middle;\n",
       "    }\n",
       "\n",
       "    .dataframe tbody tr th {\n",
       "        vertical-align: top;\n",
       "    }\n",
       "\n",
       "    .dataframe thead th {\n",
       "        text-align: right;\n",
       "    }\n",
       "</style>\n",
       "<table border=\"1\" class=\"dataframe\">\n",
       "  <thead>\n",
       "    <tr style=\"text-align: right;\">\n",
       "      <th></th>\n",
       "      <th>Age</th>\n",
       "      <th>homeplanet</th>\n",
       "      <th>cryosleep</th>\n",
       "      <th>destination</th>\n",
       "      <th>vip</th>\n",
       "      <th>deck</th>\n",
       "      <th>num</th>\n",
       "      <th>side</th>\n",
       "    </tr>\n",
       "  </thead>\n",
       "  <tbody>\n",
       "    <tr>\n",
       "      <th>3601</th>\n",
       "      <td>16</td>\n",
       "      <td>0</td>\n",
       "      <td>0</td>\n",
       "      <td>0</td>\n",
       "      <td>0</td>\n",
       "      <td>5</td>\n",
       "      <td>7</td>\n",
       "      <td>1</td>\n",
       "    </tr>\n",
       "    <tr>\n",
       "      <th>6057</th>\n",
       "      <td>2</td>\n",
       "      <td>0</td>\n",
       "      <td>2</td>\n",
       "      <td>3</td>\n",
       "      <td>0</td>\n",
       "      <td>8</td>\n",
       "      <td>10</td>\n",
       "      <td>2</td>\n",
       "    </tr>\n",
       "    <tr>\n",
       "      <th>2797</th>\n",
       "      <td>31</td>\n",
       "      <td>0</td>\n",
       "      <td>0</td>\n",
       "      <td>2</td>\n",
       "      <td>0</td>\n",
       "      <td>6</td>\n",
       "      <td>4</td>\n",
       "      <td>1</td>\n",
       "    </tr>\n",
       "    <tr>\n",
       "      <th>7110</th>\n",
       "      <td>14</td>\n",
       "      <td>0</td>\n",
       "      <td>0</td>\n",
       "      <td>0</td>\n",
       "      <td>0</td>\n",
       "      <td>5</td>\n",
       "      <td>1</td>\n",
       "      <td>0</td>\n",
       "    </tr>\n",
       "    <tr>\n",
       "      <th>8579</th>\n",
       "      <td>30</td>\n",
       "      <td>1</td>\n",
       "      <td>1</td>\n",
       "      <td>0</td>\n",
       "      <td>1</td>\n",
       "      <td>1</td>\n",
       "      <td>2</td>\n",
       "      <td>0</td>\n",
       "    </tr>\n",
       "  </tbody>\n",
       "</table>\n",
       "</div>"
      ],
      "text/plain": [
       "      Age  homeplanet  cryosleep  destination  vip  deck  num  side\n",
       "3601   16           0          0            0    0     5    7     1\n",
       "6057    2           0          2            3    0     8   10     2\n",
       "2797   31           0          0            2    0     6    4     1\n",
       "7110   14           0          0            0    0     5    1     0\n",
       "8579   30           1          1            0    1     1    2     0"
      ]
     },
     "execution_count": 27,
     "metadata": {},
     "output_type": "execute_result"
    }
   ],
   "source": [
    "x_train.head()"
   ]
  },
  {
   "cell_type": "code",
   "execution_count": 28,
   "id": "b5369fba",
   "metadata": {
    "execution": {
     "iopub.execute_input": "2023-02-20T14:50:10.697736Z",
     "iopub.status.busy": "2023-02-20T14:50:10.697233Z",
     "iopub.status.idle": "2023-02-20T14:50:11.849160Z",
     "shell.execute_reply": "2023-02-20T14:50:11.847844Z"
    },
    "papermill": {
     "duration": 1.169585,
     "end_time": "2023-02-20T14:50:11.852408",
     "exception": false,
     "start_time": "2023-02-20T14:50:10.682823",
     "status": "completed"
    },
    "tags": []
   },
   "outputs": [
    {
     "data": {
      "text/html": [
       "<style type='text/css'>\n",
       ".datatable table.frame { margin-bottom: 0; }\n",
       ".datatable table.frame thead { border-bottom: none; }\n",
       ".datatable table.frame tr.coltypes td {  color: #FFFFFF;  line-height: 6px;  padding: 0 0.5em;}\n",
       ".datatable .bool    { background: #DDDD99; }\n",
       ".datatable .object  { background: #565656; }\n",
       ".datatable .int     { background: #5D9E5D; }\n",
       ".datatable .float   { background: #4040CC; }\n",
       ".datatable .str     { background: #CC4040; }\n",
       ".datatable .time    { background: #40CC40; }\n",
       ".datatable .row_index {  background: var(--jp-border-color3);  border-right: 1px solid var(--jp-border-color0);  color: var(--jp-ui-font-color3);  font-size: 9px;}\n",
       ".datatable .frame tbody td { text-align: left; }\n",
       ".datatable .frame tr.coltypes .row_index {  background: var(--jp-border-color0);}\n",
       ".datatable th:nth-child(2) { padding-left: 12px; }\n",
       ".datatable .hellipsis {  color: var(--jp-cell-editor-border-color);}\n",
       ".datatable .vellipsis {  background: var(--jp-layout-color0);  color: var(--jp-cell-editor-border-color);}\n",
       ".datatable .na {  color: var(--jp-cell-editor-border-color);  font-size: 80%;}\n",
       ".datatable .sp {  opacity: 0.25;}\n",
       ".datatable .footer { font-size: 9px; }\n",
       ".datatable .frame_dimensions {  background: var(--jp-border-color3);  border-top: 1px solid var(--jp-border-color0);  color: var(--jp-ui-font-color3);  display: inline-block;  opacity: 0.6;  padding: 1px 10px 1px 5px;}\n",
       "</style>\n"
      ],
      "text/plain": [
       "<IPython.core.display.HTML object>"
      ]
     },
     "metadata": {},
     "output_type": "display_data"
    }
   ],
   "source": [
    "from sklearn.ensemble import RandomForestClassifier\n",
    "from xgboost import XGBClassifier\n",
    "import lightgbm as lgb\n",
    "from sklearn.metrics import mean_absolute_error, accuracy_score , r2_score, confusion_matrix, plot_confusion_matrix\n",
    "#from lazypredict.Supervised import LazyClassifier\n",
    "from hyperopt import STATUS_OK, Trials, fmin, hp, tpe"
   ]
  },
  {
   "cell_type": "code",
   "execution_count": 29,
   "id": "f975753f",
   "metadata": {
    "execution": {
     "iopub.execute_input": "2023-02-20T14:50:11.881809Z",
     "iopub.status.busy": "2023-02-20T14:50:11.880697Z",
     "iopub.status.idle": "2023-02-20T14:50:11.887380Z",
     "shell.execute_reply": "2023-02-20T14:50:11.886540Z"
    },
    "papermill": {
     "duration": 0.023625,
     "end_time": "2023-02-20T14:50:11.889643",
     "exception": false,
     "start_time": "2023-02-20T14:50:11.866018",
     "status": "completed"
    },
    "tags": []
   },
   "outputs": [
    {
     "data": {
      "text/plain": [
       "\"'clf = LazyClassifier(verbose = 0,\\n                     ignore_warnings = True,\\n                     custom_metric = None,\\n                     predictions = False,\\n                     random_state = 12,\\n                     classifiers = 'all')\\n\\nmodels, predictions = clf.fit(x_train, x_valid ,y_train , y_valid)\""
      ]
     },
     "execution_count": 29,
     "metadata": {},
     "output_type": "execute_result"
    }
   ],
   "source": [
    "''''clf = LazyClassifier(verbose = 0,\n",
    "                     ignore_warnings = True,\n",
    "                     custom_metric = None,\n",
    "                     predictions = False,\n",
    "                     random_state = 12,\n",
    "                     classifiers = 'all')\n",
    "\n",
    "models, predictions = clf.fit(x_train, x_valid ,y_train , y_valid)'''"
   ]
  },
  {
   "cell_type": "code",
   "execution_count": 30,
   "id": "ecdc2592",
   "metadata": {
    "execution": {
     "iopub.execute_input": "2023-02-20T14:50:11.918285Z",
     "iopub.status.busy": "2023-02-20T14:50:11.917277Z",
     "iopub.status.idle": "2023-02-20T14:50:11.921851Z",
     "shell.execute_reply": "2023-02-20T14:50:11.920985Z"
    },
    "papermill": {
     "duration": 0.021233,
     "end_time": "2023-02-20T14:50:11.924111",
     "exception": false,
     "start_time": "2023-02-20T14:50:11.902878",
     "status": "completed"
    },
    "tags": []
   },
   "outputs": [],
   "source": [
    "#models"
   ]
  },
  {
   "cell_type": "code",
   "execution_count": 31,
   "id": "74700881",
   "metadata": {
    "execution": {
     "iopub.execute_input": "2023-02-20T14:50:11.952735Z",
     "iopub.status.busy": "2023-02-20T14:50:11.952041Z",
     "iopub.status.idle": "2023-02-20T14:50:11.959344Z",
     "shell.execute_reply": "2023-02-20T14:50:11.958176Z"
    },
    "papermill": {
     "duration": 0.024559,
     "end_time": "2023-02-20T14:50:11.962064",
     "exception": false,
     "start_time": "2023-02-20T14:50:11.937505",
     "status": "completed"
    },
    "tags": []
   },
   "outputs": [
    {
     "data": {
      "text/plain": [
       "\"from sklearn.model_selection import RandomizedSearchCV\\n# Number of trees in random forest\\nn_estimators = [int(x) for x in np.linspace(start = 200, stop = 2000, num = 10)]\\n# Number of features to consider at every split\\nmax_features = ['auto', 'sqrt']\\n# Maximum number of levels in tree\\nmax_depth = [int(x) for x in np.linspace(10, 110, num = 11)]\\nmax_depth.append(None)\\n# Minimum number of samples required to split a node\\nmin_samples_split = [2, 5, 10]\\n# Minimum number of samples required at each leaf node\\nmin_samples_leaf = [1, 2, 4]\\n# Method of selecting samples for training each tree\\nbootstrap = [True, False]\\n# Create the random grid\\nrandom_grid = {'n_estimators': n_estimators,\\n               'max_features': max_features,\\n               'max_depth': max_depth,\\n               'min_samples_split': min_samples_split,\\n               'min_samples_leaf': min_samples_leaf,\\n               'bootstrap': bootstrap}\\nprint(random_grid)\""
      ]
     },
     "execution_count": 31,
     "metadata": {},
     "output_type": "execute_result"
    }
   ],
   "source": [
    "\"\"\"from sklearn.model_selection import RandomizedSearchCV\n",
    "# Number of trees in random forest\n",
    "n_estimators = [int(x) for x in np.linspace(start = 200, stop = 2000, num = 10)]\n",
    "# Number of features to consider at every split\n",
    "max_features = ['auto', 'sqrt']\n",
    "# Maximum number of levels in tree\n",
    "max_depth = [int(x) for x in np.linspace(10, 110, num = 11)]\n",
    "max_depth.append(None)\n",
    "# Minimum number of samples required to split a node\n",
    "min_samples_split = [2, 5, 10]\n",
    "# Minimum number of samples required at each leaf node\n",
    "min_samples_leaf = [1, 2, 4]\n",
    "# Method of selecting samples for training each tree\n",
    "bootstrap = [True, False]\n",
    "# Create the random grid\n",
    "random_grid = {'n_estimators': n_estimators,\n",
    "               'max_features': max_features,\n",
    "               'max_depth': max_depth,\n",
    "               'min_samples_split': min_samples_split,\n",
    "               'min_samples_leaf': min_samples_leaf,\n",
    "               'bootstrap': bootstrap}\n",
    "print(random_grid)\"\"\""
   ]
  },
  {
   "cell_type": "code",
   "execution_count": 32,
   "id": "8259b9cc",
   "metadata": {
    "execution": {
     "iopub.execute_input": "2023-02-20T14:50:11.990440Z",
     "iopub.status.busy": "2023-02-20T14:50:11.990017Z",
     "iopub.status.idle": "2023-02-20T14:50:11.997583Z",
     "shell.execute_reply": "2023-02-20T14:50:11.996627Z"
    },
    "papermill": {
     "duration": 0.024407,
     "end_time": "2023-02-20T14:50:11.999766",
     "exception": false,
     "start_time": "2023-02-20T14:50:11.975359",
     "status": "completed"
    },
    "tags": []
   },
   "outputs": [
    {
     "data": {
      "text/plain": [
       "'# Use the random grid to search for best hyperparameters\\n# First create the base model to tune\\nrf = RandomForestClassifier()\\n# Random search of parameters, using 3 fold cross validation, \\n# search across 100 different combinations, and use all available cores\\nrf_random = RandomizedSearchCV(estimator = rf, param_distributions = random_grid, n_iter = 100, cv = 3, verbose=2, random_state=42, n_jobs = -1)\\n# Fit the random search model\\nrf_random.fit(x_train, y_train)'"
      ]
     },
     "execution_count": 32,
     "metadata": {},
     "output_type": "execute_result"
    }
   ],
   "source": [
    "\"\"\"# Use the random grid to search for best hyperparameters\n",
    "# First create the base model to tune\n",
    "rf = RandomForestClassifier()\n",
    "# Random search of parameters, using 3 fold cross validation, \n",
    "# search across 100 different combinations, and use all available cores\n",
    "rf_random = RandomizedSearchCV(estimator = rf, param_distributions = random_grid, n_iter = 100, cv = 3, verbose=2, random_state=42, n_jobs = -1)\n",
    "# Fit the random search model\n",
    "rf_random.fit(x_train, y_train)\"\"\""
   ]
  },
  {
   "cell_type": "code",
   "execution_count": 33,
   "id": "7ab3ae70",
   "metadata": {
    "execution": {
     "iopub.execute_input": "2023-02-20T14:50:12.030360Z",
     "iopub.status.busy": "2023-02-20T14:50:12.029068Z",
     "iopub.status.idle": "2023-02-20T14:50:12.034102Z",
     "shell.execute_reply": "2023-02-20T14:50:12.033191Z"
    },
    "papermill": {
     "duration": 0.022386,
     "end_time": "2023-02-20T14:50:12.036425",
     "exception": false,
     "start_time": "2023-02-20T14:50:12.014039",
     "status": "completed"
    },
    "tags": []
   },
   "outputs": [],
   "source": [
    "#rf_random.best_params_"
   ]
  },
  {
   "cell_type": "code",
   "execution_count": 34,
   "id": "c92eac89",
   "metadata": {
    "execution": {
     "iopub.execute_input": "2023-02-20T14:50:12.065568Z",
     "iopub.status.busy": "2023-02-20T14:50:12.064651Z",
     "iopub.status.idle": "2023-02-20T14:50:12.073046Z",
     "shell.execute_reply": "2023-02-20T14:50:12.072201Z"
    },
    "papermill": {
     "duration": 0.025273,
     "end_time": "2023-02-20T14:50:12.075231",
     "exception": false,
     "start_time": "2023-02-20T14:50:12.049958",
     "status": "completed"
    },
    "tags": []
   },
   "outputs": [
    {
     "data": {
      "text/plain": [
       "'space = {\\'max_depth\\': hp.quniform(\"max_depth\", 3, 18, 1),\\n        \\'gamma\\': hp.uniform (\\'gamma\\', 1,9),\\n        \\'reg_alpha\\' : hp.quniform(\\'reg_alpha\\', 40,180,1),\\n        \\'reg_lambda\\' : hp.uniform(\\'reg_lambda\\', 0,1),\\n        \\'colsample_bytree\\' : hp.uniform(\\'colsample_bytree\\', 0.5,1),\\n        \\'min_child_weight\\' : hp.quniform(\\'min_child_weight\\', 0, 10, 1),\\n        \\'n_estimators\\': 180,\\n        \\'seed\\': 0\\n    }'"
      ]
     },
     "execution_count": 34,
     "metadata": {},
     "output_type": "execute_result"
    }
   ],
   "source": [
    "\"\"\"space = {'max_depth': hp.quniform(\"max_depth\", 3, 18, 1),\n",
    "        'gamma': hp.uniform ('gamma', 1,9),\n",
    "        'reg_alpha' : hp.quniform('reg_alpha', 40,180,1),\n",
    "        'reg_lambda' : hp.uniform('reg_lambda', 0,1),\n",
    "        'colsample_bytree' : hp.uniform('colsample_bytree', 0.5,1),\n",
    "        'min_child_weight' : hp.quniform('min_child_weight', 0, 10, 1),\n",
    "        'n_estimators': 180,\n",
    "        'seed': 0\n",
    "    }\"\"\""
   ]
  },
  {
   "cell_type": "code",
   "execution_count": 35,
   "id": "b6490fbe",
   "metadata": {
    "execution": {
     "iopub.execute_input": "2023-02-20T14:50:12.104622Z",
     "iopub.status.busy": "2023-02-20T14:50:12.103841Z",
     "iopub.status.idle": "2023-02-20T14:50:12.112688Z",
     "shell.execute_reply": "2023-02-20T14:50:12.111557Z"
    },
    "papermill": {
     "duration": 0.026243,
     "end_time": "2023-02-20T14:50:12.115360",
     "exception": false,
     "start_time": "2023-02-20T14:50:12.089117",
     "status": "completed"
    },
    "tags": []
   },
   "outputs": [
    {
     "data": {
      "text/plain": [
       "'def objective(space):\\n    clf = XGBClassifier(\\n                    n_estimators =space[\\'n_estimators\\'], max_depth = int(space[\\'max_depth\\']), gamma = space[\\'gamma\\'],\\n                    reg_alpha = int(space[\\'reg_alpha\\']),min_child_weight=int(space[\\'min_child_weight\\']),\\n                    colsample_bytree=int(space[\\'colsample_bytree\\']))\\n    \\n    evaluation = [( x_train, y_train), ( x_valid, y_valid)]\\n    \\n    clf.fit(x_train, y_train,\\n            eval_set=evaluation, eval_metric=\"auc\",\\n            early_stopping_rounds=10,verbose=False)\\n    \\n\\n    pred = clf.predict(x_valid)\\n    accuracy = accuracy_score(y_valid, pred>0.5)\\n    print (\"SCORE:\", accuracy)\\n    return {\\'loss\\': -accuracy, \\'status\\': STATUS_OK }'"
      ]
     },
     "execution_count": 35,
     "metadata": {},
     "output_type": "execute_result"
    }
   ],
   "source": [
    "\"\"\"def objective(space):\n",
    "    clf = XGBClassifier(\n",
    "                    n_estimators =space['n_estimators'], max_depth = int(space['max_depth']), gamma = space['gamma'],\n",
    "                    reg_alpha = int(space['reg_alpha']),min_child_weight=int(space['min_child_weight']),\n",
    "                    colsample_bytree=int(space['colsample_bytree']))\n",
    "    \n",
    "    evaluation = [( x_train, y_train), ( x_valid, y_valid)]\n",
    "    \n",
    "    clf.fit(x_train, y_train,\n",
    "            eval_set=evaluation, eval_metric=\"auc\",\n",
    "            early_stopping_rounds=10,verbose=False)\n",
    "    \n",
    "\n",
    "    pred = clf.predict(x_valid)\n",
    "    accuracy = accuracy_score(y_valid, pred>0.5)\n",
    "    print (\"SCORE:\", accuracy)\n",
    "    return {'loss': -accuracy, 'status': STATUS_OK }\"\"\""
   ]
  },
  {
   "cell_type": "code",
   "execution_count": 36,
   "id": "4e6eb6eb",
   "metadata": {
    "execution": {
     "iopub.execute_input": "2023-02-20T14:50:12.144698Z",
     "iopub.status.busy": "2023-02-20T14:50:12.144265Z",
     "iopub.status.idle": "2023-02-20T14:50:12.150917Z",
     "shell.execute_reply": "2023-02-20T14:50:12.149826Z"
    },
    "papermill": {
     "duration": 0.024431,
     "end_time": "2023-02-20T14:50:12.153531",
     "exception": false,
     "start_time": "2023-02-20T14:50:12.129100",
     "status": "completed"
    },
    "tags": []
   },
   "outputs": [
    {
     "data": {
      "text/plain": [
       "'trials = Trials()\\n\\nbest_hyperparams = fmin(fn = objective,\\n                        space = space,\\n                        algo = tpe.suggest,\\n                        max_evals = 100,\\n                        trials = trials)'"
      ]
     },
     "execution_count": 36,
     "metadata": {},
     "output_type": "execute_result"
    }
   ],
   "source": [
    "\"\"\"trials = Trials()\n",
    "\n",
    "best_hyperparams = fmin(fn = objective,\n",
    "                        space = space,\n",
    "                        algo = tpe.suggest,\n",
    "                        max_evals = 100,\n",
    "                        trials = trials)\"\"\""
   ]
  },
  {
   "cell_type": "code",
   "execution_count": 37,
   "id": "c8698b51",
   "metadata": {
    "execution": {
     "iopub.execute_input": "2023-02-20T14:50:12.182487Z",
     "iopub.status.busy": "2023-02-20T14:50:12.182099Z",
     "iopub.status.idle": "2023-02-20T14:50:12.186776Z",
     "shell.execute_reply": "2023-02-20T14:50:12.185518Z"
    },
    "papermill": {
     "duration": 0.021828,
     "end_time": "2023-02-20T14:50:12.189097",
     "exception": false,
     "start_time": "2023-02-20T14:50:12.167269",
     "status": "completed"
    },
    "tags": []
   },
   "outputs": [],
   "source": [
    "#print(\"The best hyperparameters are : \",\"\\n\")\n",
    "#print(best_hyperparams)"
   ]
  },
  {
   "cell_type": "code",
   "execution_count": 38,
   "id": "d26b4104",
   "metadata": {
    "execution": {
     "iopub.execute_input": "2023-02-20T14:50:12.219097Z",
     "iopub.status.busy": "2023-02-20T14:50:12.218322Z",
     "iopub.status.idle": "2023-02-20T14:50:12.877394Z",
     "shell.execute_reply": "2023-02-20T14:50:12.876350Z"
    },
    "papermill": {
     "duration": 0.676859,
     "end_time": "2023-02-20T14:50:12.880102",
     "exception": false,
     "start_time": "2023-02-20T14:50:12.203243",
     "status": "completed"
    },
    "tags": []
   },
   "outputs": [
    {
     "data": {
      "text/plain": [
       "0.7498562392179413"
      ]
     },
     "execution_count": 38,
     "metadata": {},
     "output_type": "execute_result"
    }
   ],
   "source": [
    "model = lgb.LGBMClassifier()\n",
    "model.fit(x_train, y_train)\n",
    "pred = model.predict(x_valid)\n",
    "accuracy_score(y_valid, pred)"
   ]
  },
  {
   "cell_type": "code",
   "execution_count": 39,
   "id": "632ab3c3",
   "metadata": {
    "execution": {
     "iopub.execute_input": "2023-02-20T14:50:12.909675Z",
     "iopub.status.busy": "2023-02-20T14:50:12.909266Z",
     "iopub.status.idle": "2023-02-20T14:50:12.918862Z",
     "shell.execute_reply": "2023-02-20T14:50:12.917730Z"
    },
    "papermill": {
     "duration": 0.027389,
     "end_time": "2023-02-20T14:50:12.921416",
     "exception": false,
     "start_time": "2023-02-20T14:50:12.894027",
     "status": "completed"
    },
    "tags": []
   },
   "outputs": [
    {
     "data": {
      "text/plain": [
       "array([[715, 161],\n",
       "       [274, 589]])"
      ]
     },
     "execution_count": 39,
     "metadata": {},
     "output_type": "execute_result"
    }
   ],
   "source": [
    "confusion_matrix(y_valid, pred)"
   ]
  },
  {
   "cell_type": "code",
   "execution_count": 40,
   "id": "fcca60e3",
   "metadata": {
    "execution": {
     "iopub.execute_input": "2023-02-20T14:50:12.951421Z",
     "iopub.status.busy": "2023-02-20T14:50:12.950786Z",
     "iopub.status.idle": "2023-02-20T14:50:13.281811Z",
     "shell.execute_reply": "2023-02-20T14:50:13.280961Z"
    },
    "papermill": {
     "duration": 0.348563,
     "end_time": "2023-02-20T14:50:13.284049",
     "exception": false,
     "start_time": "2023-02-20T14:50:12.935486",
     "status": "completed"
    },
    "tags": []
   },
   "outputs": [
    {
     "name": "stderr",
     "output_type": "stream",
     "text": [
      "/opt/conda/lib/python3.7/site-packages/sklearn/utils/deprecation.py:87: FutureWarning: Function plot_confusion_matrix is deprecated; Function `plot_confusion_matrix` is deprecated in 1.0 and will be removed in 1.2. Use one of the class methods: ConfusionMatrixDisplay.from_predictions or ConfusionMatrixDisplay.from_estimator.\n",
      "  warnings.warn(msg, category=FutureWarning)\n"
     ]
    },
    {
     "data": {
      "text/plain": [
       "<sklearn.metrics._plot.confusion_matrix.ConfusionMatrixDisplay at 0x7f06516805d0>"
      ]
     },
     "execution_count": 40,
     "metadata": {},
     "output_type": "execute_result"
    },
    {
     "data": {
      "image/png": "[encoded data removed]",
      "text/plain": [
       "<Figure size 640x480 with 2 Axes>"
      ]
     },
     "metadata": {},
     "output_type": "display_data"
    }
   ],
   "source": [
    "plot_confusion_matrix(model,x_valid,y_valid)"
   ]
  },
  {
   "cell_type": "code",
   "execution_count": 41,
   "id": "6e258f1f",
   "metadata": {
    "execution": {
     "iopub.execute_input": "2023-02-20T14:50:13.316410Z",
     "iopub.status.busy": "2023-02-20T14:50:13.315608Z",
     "iopub.status.idle": "2023-02-20T14:50:13.321559Z",
     "shell.execute_reply": "2023-02-20T14:50:13.320684Z"
    },
    "papermill": {
     "duration": 0.024608,
     "end_time": "2023-02-20T14:50:13.323881",
     "exception": false,
     "start_time": "2023-02-20T14:50:13.299273",
     "status": "completed"
    },
    "tags": []
   },
   "outputs": [],
   "source": [
    "dfss = dfs.drop(['PassengerId'],axis=1)"
   ]
  },
  {
   "cell_type": "code",
   "execution_count": 42,
   "id": "2dd3da91",
   "metadata": {
    "execution": {
     "iopub.execute_input": "2023-02-20T14:50:13.354537Z",
     "iopub.status.busy": "2023-02-20T14:50:13.353866Z",
     "iopub.status.idle": "2023-02-20T14:50:13.372322Z",
     "shell.execute_reply": "2023-02-20T14:50:13.371409Z"
    },
    "papermill": {
     "duration": 0.036299,
     "end_time": "2023-02-20T14:50:13.374556",
     "exception": false,
     "start_time": "2023-02-20T14:50:13.338257",
     "status": "completed"
    },
    "tags": []
   },
   "outputs": [
    {
     "data": {
      "text/plain": [
       "array([0, 0, 1, ..., 1, 0, 1])"
      ]
     },
     "execution_count": 42,
     "metadata": {},
     "output_type": "execute_result"
    }
   ],
   "source": [
    "test_pred = model.predict(dfss)\n",
    "test_pred"
   ]
  },
  {
   "cell_type": "code",
   "execution_count": 43,
   "id": "1a78f267",
   "metadata": {
    "execution": {
     "iopub.execute_input": "2023-02-20T14:50:13.405903Z",
     "iopub.status.busy": "2023-02-20T14:50:13.405315Z",
     "iopub.status.idle": "2023-02-20T14:50:13.409871Z",
     "shell.execute_reply": "2023-02-20T14:50:13.409069Z"
    },
    "papermill": {
     "duration": 0.022984,
     "end_time": "2023-02-20T14:50:13.411963",
     "exception": false,
     "start_time": "2023-02-20T14:50:13.388979",
     "status": "completed"
    },
    "tags": []
   },
   "outputs": [],
   "source": [
    "dfs['transported'] = test_pred"
   ]
  },
  {
   "cell_type": "code",
   "execution_count": 44,
   "id": "3de5fdd3",
   "metadata": {
    "execution": {
     "iopub.execute_input": "2023-02-20T14:50:13.442913Z",
     "iopub.status.busy": "2023-02-20T14:50:13.442246Z",
     "iopub.status.idle": "2023-02-20T14:50:13.448310Z",
     "shell.execute_reply": "2023-02-20T14:50:13.447526Z"
    },
    "papermill": {
     "duration": 0.024241,
     "end_time": "2023-02-20T14:50:13.450576",
     "exception": false,
     "start_time": "2023-02-20T14:50:13.426335",
     "status": "completed"
    },
    "tags": []
   },
   "outputs": [],
   "source": [
    "dfs.drop(['homeplanet', 'cryosleep', 'destination','vip','deck', 'num', 'side','Age'],axis=1, inplace=True)"
   ]
  },
  {
   "cell_type": "code",
   "execution_count": 45,
   "id": "ce40e075",
   "metadata": {
    "execution": {
     "iopub.execute_input": "2023-02-20T14:50:13.481690Z",
     "iopub.status.busy": "2023-02-20T14:50:13.481077Z",
     "iopub.status.idle": "2023-02-20T14:50:13.486100Z",
     "shell.execute_reply": "2023-02-20T14:50:13.485350Z"
    },
    "papermill": {
     "duration": 0.022788,
     "end_time": "2023-02-20T14:50:13.488171",
     "exception": false,
     "start_time": "2023-02-20T14:50:13.465383",
     "status": "completed"
    },
    "tags": []
   },
   "outputs": [],
   "source": [
    "dfs['transported'] = dfs.transported.astype('bool')"
   ]
  },
  {
   "cell_type": "code",
   "execution_count": 46,
   "id": "a24e11fe",
   "metadata": {
    "execution": {
     "iopub.execute_input": "2023-02-20T14:50:13.519360Z",
     "iopub.status.busy": "2023-02-20T14:50:13.518728Z",
     "iopub.status.idle": "2023-02-20T14:50:13.528495Z",
     "shell.execute_reply": "2023-02-20T14:50:13.527612Z"
    },
    "papermill": {
     "duration": 0.028252,
     "end_time": "2023-02-20T14:50:13.530695",
     "exception": false,
     "start_time": "2023-02-20T14:50:13.502443",
     "status": "completed"
    },
    "tags": []
   },
   "outputs": [
    {
     "data": {
      "text/html": [
       "<div>\n",
       "<style scoped>\n",
       "    .dataframe tbody tr th:only-of-type {\n",
       "        vertical-align: middle;\n",
       "    }\n",
       "\n",
       "    .dataframe tbody tr th {\n",
       "        vertical-align: top;\n",
       "    }\n",
       "\n",
       "    .dataframe thead th {\n",
       "        text-align: right;\n",
       "    }\n",
       "</style>\n",
       "<table border=\"1\" class=\"dataframe\">\n",
       "  <thead>\n",
       "    <tr style=\"text-align: right;\">\n",
       "      <th></th>\n",
       "      <th>PassengerId</th>\n",
       "      <th>transported</th>\n",
       "    </tr>\n",
       "  </thead>\n",
       "  <tbody>\n",
       "    <tr>\n",
       "      <th>0</th>\n",
       "      <td>0013_01</td>\n",
       "      <td>False</td>\n",
       "    </tr>\n",
       "    <tr>\n",
       "      <th>1</th>\n",
       "      <td>0018_01</td>\n",
       "      <td>False</td>\n",
       "    </tr>\n",
       "    <tr>\n",
       "      <th>2</th>\n",
       "      <td>0019_01</td>\n",
       "      <td>True</td>\n",
       "    </tr>\n",
       "    <tr>\n",
       "      <th>3</th>\n",
       "      <td>0021_01</td>\n",
       "      <td>False</td>\n",
       "    </tr>\n",
       "    <tr>\n",
       "      <th>4</th>\n",
       "      <td>0023_01</td>\n",
       "      <td>False</td>\n",
       "    </tr>\n",
       "  </tbody>\n",
       "</table>\n",
       "</div>"
      ],
      "text/plain": [
       "  PassengerId  transported\n",
       "0     0013_01        False\n",
       "1     0018_01        False\n",
       "2     0019_01         True\n",
       "3     0021_01        False\n",
       "4     0023_01        False"
      ]
     },
     "execution_count": 46,
     "metadata": {},
     "output_type": "execute_result"
    }
   ],
   "source": [
    "dfs.head()"
   ]
  },
  {
   "cell_type": "code",
   "execution_count": 47,
   "id": "fae029d9",
   "metadata": {
    "execution": {
     "iopub.execute_input": "2023-02-20T14:50:13.562608Z",
     "iopub.status.busy": "2023-02-20T14:50:13.561998Z",
     "iopub.status.idle": "2023-02-20T14:50:13.573425Z",
     "shell.execute_reply": "2023-02-20T14:50:13.572601Z"
    },
    "papermill": {
     "duration": 0.029891,
     "end_time": "2023-02-20T14:50:13.575892",
     "exception": false,
     "start_time": "2023-02-20T14:50:13.546001",
     "status": "completed"
    },
    "tags": []
   },
   "outputs": [],
   "source": [
    "dfs.to_csv('submission.csv',index=False)"
   ]
  },
  {
   "cell_type": "code",
   "execution_count": 48,
   "id": "56907a99",
   "metadata": {
    "execution": {
     "iopub.execute_input": "2023-02-20T14:50:13.607260Z",
     "iopub.status.busy": "2023-02-20T14:50:13.606602Z",
     "iopub.status.idle": "2023-02-20T14:50:13.611270Z",
     "shell.execute_reply": "2023-02-20T14:50:13.610383Z"
    },
    "papermill": {
     "duration": 0.023042,
     "end_time": "2023-02-20T14:50:13.613593",
     "exception": false,
     "start_time": "2023-02-20T14:50:13.590551",
     "status": "completed"
    },
    "tags": []
   },
   "outputs": [],
   "source": [
    "#tfds_train = tfdf.keras.pd_dataframe_to_tf_dataset(df_train, label='Transported')\n",
    "#tfds_valid = tfdf.keras.pd_dataframe_to_tf_dataset(df_valid, label='Transported')\n",
    "#tfds_test = tfdf.keras.pd_dataframe_to_tf_dataset(dfs)\n",
    "\n",
    "#model = tfdf.keras.GradientBoostedTreesModel()\n",
    "#model.fit(tfds_train)\n",
    "\n",
    "#model.summary()\n",
    "\n",
    "#model.evaluate(tfds_valid)"
   ]
  }
 ],
 "metadata": {
  "kernelspec": {
   "display_name": "Python 3",
   "language": "python",
   "name": "python3"
  },
  "language_info": {
   "codemirror_mode": {
    "name": "ipython",
    "version": 3
   },
   "file_extension": ".py",
   "mimetype": "text/x-python",
   "name": "python",
   "nbconvert_exporter": "python",
   "pygments_lexer": "ipython3",
   "version": "3.7.12"
  },
  "papermill": {
   "default_parameters": {},
   "duration": 27.296354,
   "end_time": "2023-02-20T14:50:16.547347",
   "environment_variables": {},
   "exception": null,
   "input_path": "__notebook__.ipynb",
   "output_path": "__notebook__.ipynb",
   "parameters": {},
   "start_time": "2023-02-20T14:49:49.250993",
   "version": "2.3.4"
  }
 },
 "nbformat": 4,
 "nbformat_minor": 5
}
